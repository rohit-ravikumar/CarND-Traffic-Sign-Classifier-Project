{
 "cells": [
  {
   "cell_type": "markdown",
   "metadata": {},
   "source": [
    "# Self-Driving Car Engineer Nanodegree\n",
    "\n",
    "## Deep Learning\n",
    "\n",
    "## Project: Build a Traffic Sign Recognition Classifier\n",
    "\n",
    "In this notebook, a template is provided for you to implement your functionality in stages, which is required to successfully complete this project. If additional code is required that cannot be included in the notebook, be sure that the Python code is successfully imported and included in your submission if necessary. \n",
    "\n",
    "> **Note**: Once you have completed all of the code implementations, you need to finalize your work by exporting the iPython Notebook as an HTML document. Before exporting the notebook to html, all of the code cells need to have been run so that reviewers can see the final implementation and output. You can then export the notebook by using the menu above and navigating to  \\n\",\n",
    "    \"**File -> Download as -> HTML (.html)**. Include the finished document along with this notebook as your submission. \n",
    "\n",
    "In addition to implementing code, there is a writeup to complete. The writeup should be completed in a separate file, which can be either a markdown file or a pdf document. There is a [write up template](https://github.com/udacity/CarND-Traffic-Sign-Classifier-Project/blob/master/writeup_template.md) that can be used to guide the writing process. Completing the code template and writeup template will cover all of the [rubric points](https://review.udacity.com/#!/rubrics/481/view) for this project.\n",
    "\n",
    "The [rubric](https://review.udacity.com/#!/rubrics/481/view) contains \"Stand Out Suggestions\" for enhancing the project beyond the minimum requirements. The stand out suggestions are optional. If you decide to pursue the \"stand out suggestions\", you can include the code in this Ipython notebook and also discuss the results in the writeup file.\n",
    "\n",
    "\n",
    ">**Note:** Code and Markdown cells can be executed using the **Shift + Enter** keyboard shortcut. In addition, Markdown cells can be edited by typically double-clicking the cell to enter edit mode."
   ]
  },
  {
   "cell_type": "markdown",
   "metadata": {},
   "source": [
    "---\n",
    "## Step 0: Load The Data"
   ]
  },
  {
   "cell_type": "code",
   "execution_count": 1,
   "metadata": {},
   "outputs": [
    {
     "name": "stdout",
     "output_type": "stream",
     "text": [
      "Length of training Set:  34799  Number of labels in Training Set:  34799\n",
      "Length of Validation Set:  4410  Number of labels in Validation Set:  4410\n",
      "Length of Test Set:  12630  Number of labels in Test Set:  12630\n",
      "No of Unique labels:  43\n"
     ]
    }
   ],
   "source": [
    "# Load pickled data\n",
    "import pickle\n",
    "\n",
    "# TODO: Fill this in based on where you saved the training and testing data\n",
    "\n",
    "training_file = \"..//data//train.p\"\n",
    "validation_file= \"..//data//valid.p\"\n",
    "testing_file = \"..//data//test.p\"\n",
    "\n",
    "with open(training_file, mode='rb') as f:\n",
    "    train = pickle.load(f)\n",
    "with open(validation_file, mode='rb') as f:\n",
    "    valid = pickle.load(f)\n",
    "with open(testing_file, mode='rb') as f:\n",
    "    test = pickle.load(f)\n",
    "    \n",
    "X_train, y_train = train['features'], train['labels']\n",
    "X_valid, y_valid = valid['features'], valid['labels']\n",
    "X_test, y_test = test['features'], test['labels']\n",
    "\n",
    "print(\"Length of training Set: \",len(X_train),\" Number of labels in Training Set: \", len(y_train))\n",
    "print(\"Length of Validation Set: \",len(X_valid),\" Number of labels in Validation Set: \", len(y_valid))\n",
    "print(\"Length of Test Set: \",len(X_test),\" Number of labels in Test Set: \", len(y_test))\n",
    "print(\"No of Unique labels: \",len(set(y_train)) )"
   ]
  },
  {
   "cell_type": "markdown",
   "metadata": {},
   "source": [
    "---\n",
    "\n",
    "## Step 1: Dataset Summary & Exploration\n",
    "\n",
    "The pickled data is a dictionary with 4 key/value pairs:\n",
    "\n",
    "- `'features'` is a 4D array containing raw pixel data of the traffic sign images, (num examples, width, height, channels).\n",
    "- `'labels'` is a 1D array containing the label/class id of the traffic sign. The file `signnames.csv` contains id -> name mappings for each id.\n",
    "- `'sizes'` is a list containing tuples, (width, height) representing the original width and height the image.\n",
    "- `'coords'` is a list containing tuples, (x1, y1, x2, y2) representing coordinates of a bounding box around the sign in the image. **THESE COORDINATES ASSUME THE ORIGINAL IMAGE. THE PICKLED DATA CONTAINS RESIZED VERSIONS (32 by 32) OF THESE IMAGES**\n",
    "\n",
    "Complete the basic data summary below. Use python, numpy and/or pandas methods to calculate the data summary rather than hard coding the results. For example, the [pandas shape method](http://pandas.pydata.org/pandas-docs/stable/generated/pandas.DataFrame.shape.html) might be useful for calculating some of the summary results. "
   ]
  },
  {
   "cell_type": "markdown",
   "metadata": {},
   "source": [
    "### Provide a Basic Summary of the Data Set Using Python, Numpy and/or Pandas"
   ]
  },
  {
   "cell_type": "code",
   "execution_count": 2,
   "metadata": {},
   "outputs": [
    {
     "name": "stdout",
     "output_type": "stream",
     "text": [
      "Number of training examples = 34799\n",
      "Number of testing examples = 12630\n",
      "Number of Validation examples = 4410\n",
      "Image data shape = (32, 32, 3)\n",
      "Number of classes = 43\n"
     ]
    }
   ],
   "source": [
    "### Replace each question mark with the appropriate value. \n",
    "### Use python, pandas or numpy methods rather than hard coding the results\n",
    "\n",
    "# TODO: Number of training examples\n",
    "n_train = len(X_train)\n",
    "\n",
    "# TODO: Number of validation examples\n",
    "n_validation = len(X_valid)\n",
    "\n",
    "# TODO: Number of testing examples.\n",
    "n_test = len(X_test)\n",
    "\n",
    "# TODO: What's the shape of an traffic sign image?\n",
    "\n",
    "image_shape =X_train[0].shape \n",
    "\n",
    "# TODO: How many unique classes/labels there are in the dataset.\n",
    "n_classes = len(set(y_train))\n",
    "\n",
    "print(\"Number of training examples =\", n_train)\n",
    "print(\"Number of testing examples =\", n_test)\n",
    "print(\"Number of Validation examples =\", n_validation)\n",
    "print(\"Image data shape =\", image_shape)\n",
    "print(\"Number of classes =\", n_classes)"
   ]
  },
  {
   "cell_type": "markdown",
   "metadata": {},
   "source": [
    "### Include an exploratory visualization of the dataset"
   ]
  },
  {
   "cell_type": "markdown",
   "metadata": {},
   "source": [
    "Visualize the German Traffic Signs Dataset using the pickled file(s). This is open ended, suggestions include: plotting traffic sign images, plotting the count of each sign, etc. \n",
    "\n",
    "The [Matplotlib](http://matplotlib.org/) [examples](http://matplotlib.org/examples/index.html) and [gallery](http://matplotlib.org/gallery.html) pages are a great resource for doing visualizations in Python.\n",
    "\n",
    "**NOTE:** It's recommended you start with something simple first. If you wish to do more, come back to it after you've completed the rest of the sections. It can be interesting to look at the distribution of classes in the training, validation and test set. Is the distribution the same? Are there more examples of some classes than others?"
   ]
  },
  {
   "cell_type": "code",
   "execution_count": 3,
   "metadata": {},
   "outputs": [],
   "source": [
    "### Data exploration visualization code goes here.\n",
    "### Feel free to use as many code cells as needed.\n",
    "import matplotlib.pyplot as plt\n",
    "import random\n",
    "import numpy as np\n",
    "import cv2\n",
    "%matplotlib inline\n"
   ]
  },
  {
   "cell_type": "code",
   "execution_count": 4,
   "metadata": {},
   "outputs": [
    {
     "name": "stdout",
     "output_type": "stream",
     "text": [
      "Training Data Set\n",
      "Label is:  40\n",
      "Label is:  8\n",
      "Label is:  1\n",
      "Label is:  6\n"
     ]
    },
    {
     "data": {
      "image/png": "[encoded data removed]",
      "text/plain": [
       "<matplotlib.figure.Figure at 0x7f8904b67470>"
      ]
     },
     "metadata": {
      "needs_background": "light"
     },
     "output_type": "display_data"
    },
    {
     "data": {
      "image/png": "[encoded data removed]",
      "text/plain": [
       "<matplotlib.figure.Figure at 0x7f8904ac5e80>"
      ]
     },
     "metadata": {
      "needs_background": "light"
     },
     "output_type": "display_data"
    },
    {
     "data": {
      "image/png": "[encoded data removed]",
      "text/plain": [
       "<matplotlib.figure.Figure at 0x7f8904a90828>"
      ]
     },
     "metadata": {
      "needs_background": "light"
     },
     "output_type": "display_data"
    },
    {
     "data": {
      "image/png": "[encoded data removed]",
      "text/plain": [
       "<matplotlib.figure.Figure at 0x7f8904a50208>"
      ]
     },
     "metadata": {
      "needs_background": "light"
     },
     "output_type": "display_data"
    }
   ],
   "source": [
    "print(\"Training Data Set\")\n",
    "for i in range (0,4):\n",
    "    index= random.randint(0,len(X_train))\n",
    "    image = X_train[index].squeeze()\n",
    "    # Visualizations will be shown in the notebook.\n",
    "    plt.figure(figsize = (1,1))\n",
    "    plt.imshow(image)\n",
    "    print(\"Label is: \", y_train[index])"
   ]
  },
  {
   "cell_type": "code",
   "execution_count": 5,
   "metadata": {},
   "outputs": [
    {
     "name": "stdout",
     "output_type": "stream",
     "text": [
      "Validation Data Set\n",
      "Label is:  7\n",
      "Label is:  42\n",
      "Label is:  2\n",
      "Label is:  5\n"
     ]
    },
    {
     "data": {
      "image/png": "[encoded data removed]",
      "text/plain": [
       "<matplotlib.figure.Figure at 0x7f88c0ed93c8>"
      ]
     },
     "metadata": {
      "needs_background": "light"
     },
     "output_type": "display_data"
    },
    {
     "data": {
      "image/png": "[encoded data removed]",
      "text/plain": [
       "<matplotlib.figure.Figure at 0x7f88c0e57d30>"
      ]
     },
     "metadata": {
      "needs_background": "light"
     },
     "output_type": "display_data"
    },
    {
     "data": {
      "image/png": "[encoded data removed]",
      "text/plain": [
       "<matplotlib.figure.Figure at 0x7f88c0e1d668>"
      ]
     },
     "metadata": {
      "needs_background": "light"
     },
     "output_type": "display_data"
    },
    {
     "data": {
      "image/png": "[encoded data removed]",
      "text/plain": [
       "<matplotlib.figure.Figure at 0x7f88c0ddc080>"
      ]
     },
     "metadata": {
      "needs_background": "light"
     },
     "output_type": "display_data"
    }
   ],
   "source": [
    "print(\"Validation Data Set\")\n",
    "for i in range (0,4):\n",
    "    index= random.randint(0,len(X_valid))\n",
    "    image = X_valid[index].squeeze()\n",
    "    # Visualizations will be shown in the notebook.\n",
    "    plt.figure(figsize = (1,1))\n",
    "    plt.imshow(image)\n",
    "    print(\"Label is: \", y_valid[index])"
   ]
  },
  {
   "cell_type": "code",
   "execution_count": 6,
   "metadata": {},
   "outputs": [
    {
     "name": "stdout",
     "output_type": "stream",
     "text": [
      "Test Data Set\n",
      "Label is:  15\n",
      "Label is:  5\n",
      "Label is:  8\n",
      "Label is:  35\n"
     ]
    },
    {
     "data": {
      "image/png": "[encoded data removed]",
      "text/plain": [
       "<matplotlib.figure.Figure at 0x7f88c0d49320>"
      ]
     },
     "metadata": {
      "needs_background": "light"
     },
     "output_type": "display_data"
    },
    {
     "data": {
      "image/png": "[encoded data removed]",
      "text/plain": [
       "<matplotlib.figure.Figure at 0x7f88c0d0acf8>"
      ]
     },
     "metadata": {
      "needs_background": "light"
     },
     "output_type": "display_data"
    },
    {
     "data": {
      "image/png": "[encoded data removed]",
      "text/plain": [
       "<matplotlib.figure.Figure at 0x7f88c0ccc8d0>"
      ]
     },
     "metadata": {
      "needs_background": "light"
     },
     "output_type": "display_data"
    },
    {
     "data": {
      "image/png": "[encoded data removed]",
      "text/plain": [
       "<matplotlib.figure.Figure at 0x7f88c0c91470>"
      ]
     },
     "metadata": {
      "needs_background": "light"
     },
     "output_type": "display_data"
    }
   ],
   "source": [
    "print(\"Test Data Set\")\n",
    "for i in range (0,4):\n",
    "    index= random.randint(0,len(X_test))\n",
    "    image = X_test[index].squeeze()\n",
    "    # Visualizations will be shown in the notebook.\n",
    "    plt.figure(figsize = (1,1))\n",
    "    plt.imshow(image)\n",
    "    print(\"Label is: \", y_test[index])"
   ]
  },
  {
   "cell_type": "code",
   "execution_count": 7,
   "metadata": {},
   "outputs": [],
   "source": [
    "#Visualize Labels and number of labels of each type in the training data set"
   ]
  },
  {
   "cell_type": "code",
   "execution_count": 8,
   "metadata": {},
   "outputs": [
    {
     "data": {
      "image/png": "[encoded data removed]",
      "text/plain": [
       "<matplotlib.figure.Figure at 0x7f88c0ca9e48>"
      ]
     },
     "metadata": {
      "needs_background": "light"
     },
     "output_type": "display_data"
    }
   ],
   "source": [
    "Labels,Counts = np.unique(y_train,return_counts = True)\n",
    "plt.figure()\n",
    "plt.bar(Labels,Counts)\n",
    "plt.title(\"Count of Labels in Training Set\")\n",
    "plt.show()"
   ]
  },
  {
   "cell_type": "markdown",
   "metadata": {},
   "source": [
    "----\n",
    "\n",
    "## Step 2: Design and Test a Model Architecture\n",
    "\n",
    "Design and implement a deep learning model that learns to recognize traffic signs. Train and test your model on the [German Traffic Sign Dataset](http://benchmark.ini.rub.de/?section=gtsrb&subsection=dataset).\n",
    "\n",
    "The LeNet-5 implementation shown in the [classroom](https://classroom.udacity.com/nanodegrees/nd013/parts/fbf77062-5703-404e-b60c-95b78b2f3f9e/modules/6df7ae49-c61c-4bb2-a23e-6527e69209ec/lessons/601ae704-1035-4287-8b11-e2c2716217ad/concepts/d4aca031-508f-4e0b-b493-e7b706120f81) at the end of the CNN lesson is a solid starting point. You'll have to change the number of classes and possibly the preprocessing, but aside from that it's plug and play! \n",
    "\n",
    "With the LeNet-5 solution from the lecture, you should expect a validation set accuracy of about 0.89. To meet specifications, the validation set accuracy will need to be at least 0.93. It is possible to get an even higher accuracy, but 0.93 is the minimum for a successful project submission. \n",
    "\n",
    "There are various aspects to consider when thinking about this problem:\n",
    "\n",
    "- Neural network architecture (is the network over or underfitting?)\n",
    "- Play around preprocessing techniques (normalization, rgb to grayscale, etc)\n",
    "- Number of examples per label (some have more than others).\n",
    "- Generate fake data.\n",
    "\n",
    "Here is an example of a [published baseline model on this problem](http://yann.lecun.com/exdb/publis/pdf/sermanet-ijcnn-11.pdf). It's not required to be familiar with the approach used in the paper but, it's good practice to try to read papers like these."
   ]
  },
  {
   "cell_type": "markdown",
   "metadata": {},
   "source": [
    "### Pre-process the Data Set (normalization, grayscale, etc.)"
   ]
  },
  {
   "cell_type": "markdown",
   "metadata": {},
   "source": [
    "Minimally, the image data should be normalized so that the data has mean zero and equal variance. For image data, `(pixel - 128)/ 128` is a quick way to approximately normalize the data and can be used in this project. \n",
    "\n",
    "Other pre-processing steps are optional. You can try different techniques to see if it improves performance. \n",
    "\n",
    "Use the code cell (or multiple code cells, if necessary) to implement the first step of your project."
   ]
  },
  {
   "cell_type": "code",
   "execution_count": 9,
   "metadata": {},
   "outputs": [],
   "source": [
    "### Preprocess the data here. It is required to normalize the data. Other preprocessing steps could include \n",
    "### converting to grayscale, etc.\n",
    "### Feel free to use as many code cells as needed."
   ]
  },
  {
   "cell_type": "code",
   "execution_count": 10,
   "metadata": {},
   "outputs": [],
   "source": [
    "#Pre Process Image: Grayscale and normalize"
   ]
  },
  {
   "cell_type": "code",
   "execution_count": 11,
   "metadata": {},
   "outputs": [],
   "source": [
    "def process_rgb_gray_normal(rgb_images):\n",
    "    gray = np.sum(rgb_images/3,axis =3, keepdims = True)\n",
    "    gray = (gray - 128) / 128\n",
    "    return gray"
   ]
  },
  {
   "cell_type": "code",
   "execution_count": 12,
   "metadata": {},
   "outputs": [],
   "source": [
    "#run pre-processing on all the training images"
   ]
  },
  {
   "cell_type": "code",
   "execution_count": 13,
   "metadata": {},
   "outputs": [
    {
     "name": "stdout",
     "output_type": "stream",
     "text": [
      "RGB Input Data Set Shape:  (34799, 32, 32, 3)\n",
      "Normalized Data Set Shape:  (34799, 32, 32, 1)\n"
     ]
    }
   ],
   "source": [
    "X_train_Normal = process_rgb_gray_normal(X_train)\n",
    "print(\"RGB Input Data Set Shape: \", X_train.shape)\n",
    "print(\"Normalized Data Set Shape: \",X_train_Normal.shape)"
   ]
  },
  {
   "cell_type": "code",
   "execution_count": 14,
   "metadata": {
    "scrolled": true
   },
   "outputs": [],
   "source": [
    "#run pre-processing on all the test images"
   ]
  },
  {
   "cell_type": "code",
   "execution_count": 15,
   "metadata": {},
   "outputs": [
    {
     "name": "stdout",
     "output_type": "stream",
     "text": [
      "RGB Input Data Set Shape:  (12630, 32, 32, 3)\n",
      "Normalized Data Set Shape:  (12630, 32, 32, 1)\n"
     ]
    }
   ],
   "source": [
    "X_test_Normal = process_rgb_gray_normal(X_test)\n",
    "print(\"RGB Input Data Set Shape: \", X_test.shape)\n",
    "print(\"Normalized Data Set Shape: \",X_test_Normal.shape)"
   ]
  },
  {
   "cell_type": "code",
   "execution_count": 16,
   "metadata": {},
   "outputs": [],
   "source": [
    "#run pre-processing on all the validation images"
   ]
  },
  {
   "cell_type": "code",
   "execution_count": 17,
   "metadata": {},
   "outputs": [
    {
     "name": "stdout",
     "output_type": "stream",
     "text": [
      "RGB Input Data Set Shape:  (4410, 32, 32, 3)\n",
      "Normalized Data Set Shape:  (4410, 32, 32, 1)\n"
     ]
    }
   ],
   "source": [
    "X_valid_Normal = process_rgb_gray_normal(X_valid)\n",
    "print(\"RGB Input Data Set Shape: \", X_valid.shape)\n",
    "print(\"Normalized Data Set Shape: \",X_valid_Normal.shape)"
   ]
  },
  {
   "cell_type": "code",
   "execution_count": null,
   "metadata": {},
   "outputs": [],
   "source": [
    "#Normalize hls image function (Ignore)"
   ]
  },
  {
   "cell_type": "code",
   "execution_count": null,
   "metadata": {},
   "outputs": [],
   "source": [
    "#def normalize_hls_image(hls_image):\n",
    "    #gray = cv2.cvtColor(rgb_image, cv2.COLOR_RGB2GRAY )\n",
    "    #hls_normal =[]\n",
    "    #hls_normal.append( (hls_image[:,:,0] - 180) / 180) \n",
    "    #hls_normal.append( (hls_image[:,:,1] - 50) / 50)\n",
    "    #hls_normal.append( (hls_image[:,:,2] - 50) / 50)\n",
    "    #return hls_normal"
   ]
  },
  {
   "cell_type": "code",
   "execution_count": null,
   "metadata": {},
   "outputs": [],
   "source": [
    "#Normalize hsv image function (Ignore)"
   ]
  },
  {
   "cell_type": "code",
   "execution_count": null,
   "metadata": {},
   "outputs": [],
   "source": [
    "#def normalize_hsv_image(hsv_image):\n",
    "    #gray = cv2.cvtColor(rgb_image, cv2.COLOR_RGB2GRAY )\n",
    "    #hsv_normal =[]\n",
    "    #hsv_normal.append( (hsv_image[:,:,0] - 180) / 180) \n",
    "    #hsv_normal.append( (hsv_image[:,:,1] - 50) / 50)\n",
    "    #hsv_normal.append( (hsv_image[:,:,2] - 50) / 50)\n",
    "    #return hsv_normal"
   ]
  },
  {
   "cell_type": "code",
   "execution_count": null,
   "metadata": {},
   "outputs": [],
   "source": [
    "#Normalize Training Data and generate more data using the original RGB training data (Ignore)"
   ]
  },
  {
   "cell_type": "code",
   "execution_count": null,
   "metadata": {},
   "outputs": [],
   "source": [
    "#print(\"Normalize Training Data Set\")\n",
    "#X_train_Normal =[]\n",
    "#y_train_Normal = y_train\n",
    "\n",
    "#print(\"Generate more training data by rotating normalized input images\")\n",
    "#X_train_90 =[]\n",
    "#y_train_90 = y_train\n",
    "#X_train_180 =[]\n",
    "#y_train_180 = y_train\n",
    "#X_train_270 =[]\n",
    "#y_train_270 = y_train\n",
    "\n",
    "#Temporary variable to hold normalized rgb\n",
    "#Normalized_rgb =[]\n",
    "\n",
    "#print(\"Generate more training data by color converting input rgb images\")\n",
    "#X_HLS_train_Normal =[]\n",
    "#y_HLS_train_Normal = y_train\n",
    "#X_HSV_train_Normal =[]\n",
    "#y_HSV_train_Normal = y_train\n",
    "\n",
    "#for index in range (0,len(X_train)):\n",
    "    #image = X_train[index].squeeze()\n",
    "    #Normalized_rgb = normalize_rgb_image(image)\n",
    "    #X_train_Normal.append(Normalized_rgb)\n",
    "    \n",
    "    #X_train_90.append(cv2.rotate(Normalized_rgb, cv2.ROTATE_90_CLOCKWISE))\n",
    "    #X_train_180.append(cv2.rotate(Normalized_rgb, cv2.ROTATE_180))\n",
    "    #X_train_270.append(cv2.rotate(Normalized_rgb,cv2.ROTATE_90_COUNTERCLOCKWISE))\n",
    "    \n",
    "    #X_HLS_train_Normal.append( normalize_hls_image(cv2.cvtColor(image, cv2.COLOR_RGB2HLS)) )\n",
    "    #X_HSV_train_Normal.append( normalize_hsv_image(cv2.cvtColor(image, cv2.COLOR_RGB2HSV)) )\n",
    "\n",
    "#print(\"Total Normalized Training Images: \",len(X_train_Normal))\n",
    "#print(\"Total 90 rotated Normalized Training Images: \",len(X_train_90))\n",
    "#print(\"Total 180 rotated Normalized Training Images \",len(X_train_180))\n",
    "#print(\"Total 270 rotated Normalized Training Images \",len(X_train_270))\n",
    "#print(\"Total HLS Normalized Training Images \",len(X_HLS_train_Normal))\n",
    "#print(\"Total HSV Normalized Training Images \",len(X_HSV_train_Normal))\n",
    "#print(\"Total Training Images Original: \",len(X_train))\n"
   ]
  },
  {
   "cell_type": "code",
   "execution_count": 18,
   "metadata": {},
   "outputs": [],
   "source": [
    "#Randomize the images"
   ]
  },
  {
   "cell_type": "code",
   "execution_count": 19,
   "metadata": {},
   "outputs": [],
   "source": [
    "from sklearn.utils import shuffle\n",
    "\n",
    "X_train_Normal, y_train = shuffle(X_train_Normal, y_train)"
   ]
  },
  {
   "cell_type": "markdown",
   "metadata": {},
   "source": [
    "### Model Architecture"
   ]
  },
  {
   "cell_type": "code",
   "execution_count": 20,
   "metadata": {},
   "outputs": [],
   "source": [
    "#Setup Tensor Flow"
   ]
  },
  {
   "cell_type": "code",
   "execution_count": 21,
   "metadata": {},
   "outputs": [],
   "source": [
    "import tensorflow as tf\n",
    "\n",
    "EPOCHS = 125\n",
    "BATCH_SIZE = 128\n",
    "DROPOUT = 0.5"
   ]
  },
  {
   "cell_type": "code",
   "execution_count": 22,
   "metadata": {},
   "outputs": [],
   "source": [
    "#implement LeNEt-5 as in previous lab to process + add dropouts "
   ]
  },
  {
   "cell_type": "code",
   "execution_count": 23,
   "metadata": {},
   "outputs": [],
   "source": [
    "### Define your architecture here.\n",
    "### Feel free to use as many code cells as needed.\n",
    "from tensorflow.contrib.layers import flatten\n",
    "\n",
    "def LeNet(x):    \n",
    "    # Arguments used for tf.truncated_normal, randomly defines variables for the weights and biases for each layer\n",
    "    mu = 0\n",
    "    sigma = 0.1\n",
    "    \n",
    "    # SOLUTION: Layer 1: Convolutional. Input = 32x32x1. Output = 28x28x6.\n",
    "    conv1_W = tf.Variable(tf.truncated_normal(shape=(5, 5, 1, 6), mean = mu, stddev = sigma))\n",
    "    #conv1_W = tf.Variable(tf.truncated_normal(shape=(5, 5, 3, 6), mean = mu, stddev = sigma))\n",
    "    conv1_b = tf.Variable(tf.zeros(6))\n",
    "    conv1   = tf.nn.conv2d(x, conv1_W, strides=[1, 1, 1, 1], padding='VALID') + conv1_b\n",
    "\n",
    "    # SOLUTION: Activation.\n",
    "    conv1 = tf.nn.relu(conv1)\n",
    "\n",
    "    # SOLUTION: Pooling. Input = 28x28x6. Output = 14x14x6.\n",
    "    conv1 = tf.nn.max_pool(conv1, ksize=[1, 2, 2, 1], strides=[1, 2, 2, 1], padding='VALID')\n",
    "\n",
    "    # SOLUTION: Layer 2: Convolutional. Output = 10x10x16.\n",
    "    conv2_W = tf.Variable(tf.truncated_normal(shape=(5, 5, 6, 16), mean = mu, stddev = sigma))\n",
    "    conv2_b = tf.Variable(tf.zeros(16))\n",
    "    conv2   = tf.nn.conv2d(conv1, conv2_W, strides=[1, 1, 1, 1], padding='VALID') + conv2_b\n",
    "    \n",
    "    # SOLUTION: Activation.\n",
    "    conv2 = tf.nn.relu(conv2)\n",
    "\n",
    "    # SOLUTION: Pooling. Input = 10x10x16. Output = 5x5x16.\n",
    "    conv2 = tf.nn.max_pool(conv2, ksize=[1, 2, 2, 1], strides=[1, 2, 2, 1], padding='VALID')\n",
    "\n",
    "    # SOLUTION: Flatten. Input = 5x5x16. Output = 400.\n",
    "    fc0   = flatten(conv2)\n",
    "    fc0   = tf.nn.dropout(fc0,keep_prob)\n",
    "    \n",
    "    # SOLUTION: Layer 3: Fully Connected. Input = 400. Output = 120.\n",
    "    fc1_W = tf.Variable(tf.truncated_normal(shape=(400, 120), mean = mu, stddev = sigma))\n",
    "    fc1_b = tf.Variable(tf.zeros(120))\n",
    "    fc1   = tf.matmul(fc0, fc1_W) + fc1_b\n",
    "    \n",
    "    # SOLUTION: Activation.\n",
    "    fc1    = tf.nn.relu(fc1)\n",
    "    fc1    = tf.nn.dropout(fc1,keep_prob)\n",
    "\n",
    "    # SOLUTION: Layer 4: Fully Connected. Input = 120. Output = 84.\n",
    "    fc2_W  = tf.Variable(tf.truncated_normal(shape=(120, 84), mean = mu, stddev = sigma))\n",
    "    fc2_b  = tf.Variable(tf.zeros(84))\n",
    "    fc2    = tf.matmul(fc1, fc2_W) + fc2_b\n",
    "    \n",
    "    # SOLUTION: Activation.\n",
    "    fc2    = tf.nn.relu(fc2)\n",
    "    fc2    = tf.nn.dropout(fc2,keep_prob)\n",
    "\n",
    "    # SOLUTION: Layer 5: Fully Connected. Input = 84. Output = 43.\n",
    "    fc3_W  = tf.Variable(tf.truncated_normal(shape=(84, 43), mean = mu, stddev = sigma))\n",
    "    fc3_b  = tf.Variable(tf.zeros(43))\n",
    "    logits = tf.matmul(fc2, fc3_W) + fc3_b\n",
    "    \n",
    "    return logits"
   ]
  },
  {
   "cell_type": "markdown",
   "metadata": {},
   "source": [
    "### Train, Validate and Test the Model"
   ]
  },
  {
   "cell_type": "markdown",
   "metadata": {},
   "source": [
    "A validation set can be used to assess how well the model is performing. A low accuracy on the training and validation\n",
    "sets imply underfitting. A high accuracy on the training set but low accuracy on the validation set implies overfitting."
   ]
  },
  {
   "cell_type": "code",
   "execution_count": 24,
   "metadata": {},
   "outputs": [],
   "source": [
    "### Train your model here.\n",
    "### Calculate and report the accuracy on the training and validation set.\n",
    "### Once a final model architecture is selected, \n",
    "### the accuracy on the test set should be calculated and reported as well.\n",
    "### Feel free to use as many code cells as needed."
   ]
  },
  {
   "cell_type": "code",
   "execution_count": 25,
   "metadata": {},
   "outputs": [],
   "source": [
    "#Features and labels"
   ]
  },
  {
   "cell_type": "code",
   "execution_count": 26,
   "metadata": {},
   "outputs": [],
   "source": [
    "x = tf.placeholder(tf.float32, (None, 32, 32, 1))\n",
    "#x = tf.placeholder(tf.float32, (None, 32, 32, 3))\n",
    "y = tf.placeholder(tf.int32, (None))\n",
    "one_hot_y = tf.one_hot(y, 43)\n",
    "keep_prob = tf.placeholder(tf.float32)"
   ]
  },
  {
   "cell_type": "code",
   "execution_count": 27,
   "metadata": {},
   "outputs": [],
   "source": [
    "#Training Pipeline"
   ]
  },
  {
   "cell_type": "code",
   "execution_count": 28,
   "metadata": {},
   "outputs": [],
   "source": [
    "rate = 0.0005\n",
    "\n",
    "logits = LeNet(x)\n",
    "cross_entropy = tf.nn.softmax_cross_entropy_with_logits(labels=one_hot_y, logits=logits)\n",
    "loss_operation = tf.reduce_mean(cross_entropy)\n",
    "optimizer = tf.train.AdamOptimizer(learning_rate = rate)\n",
    "training_operation = optimizer.minimize(loss_operation)"
   ]
  },
  {
   "cell_type": "code",
   "execution_count": 29,
   "metadata": {},
   "outputs": [],
   "source": [
    "#model Optimizer"
   ]
  },
  {
   "cell_type": "code",
   "execution_count": 30,
   "metadata": {},
   "outputs": [],
   "source": [
    "correct_prediction = tf.equal(tf.argmax(logits, 1), tf.argmax(one_hot_y, 1))\n",
    "accuracy_operation = tf.reduce_mean(tf.cast(correct_prediction, tf.float32))\n",
    "saver = tf.train.Saver()\n",
    "\n",
    "def evaluate(X_t3, y_t3):\n",
    "    num_examples = len(X_t3)\n",
    "    total_accuracy = 0\n",
    "    sess = tf.get_default_session()\n",
    "    for offset in range(0, num_examples, BATCH_SIZE):\n",
    "        batch_x, batch_y = X_t3[offset:offset+BATCH_SIZE], y_t3[offset:offset+BATCH_SIZE]\n",
    "        accuracy = sess.run(accuracy_operation, feed_dict={x: batch_x, y: batch_y, keep_prob:1.0})\n",
    "        total_accuracy += (accuracy * len(batch_x))\n",
    "    return total_accuracy / num_examples"
   ]
  },
  {
   "cell_type": "code",
   "execution_count": 31,
   "metadata": {},
   "outputs": [],
   "source": [
    "#Run the training"
   ]
  },
  {
   "cell_type": "code",
   "execution_count": 32,
   "metadata": {
    "scrolled": true
   },
   "outputs": [
    {
     "name": "stdout",
     "output_type": "stream",
     "text": [
      "Training...\n",
      "\n",
      "EPOCH 1 ...\n",
      "Validation Accuracy = 0.171\n",
      "Training Accuracy= 0.211\n",
      "EPOCH 2 ...\n",
      "Validation Accuracy = 0.476\n",
      "Training Accuracy= 0.531\n",
      "EPOCH 3 ...\n",
      "Validation Accuracy = 0.595\n",
      "Training Accuracy= 0.649\n",
      "EPOCH 4 ...\n",
      "Validation Accuracy = 0.700\n",
      "Training Accuracy= 0.746\n",
      "EPOCH 5 ...\n",
      "Validation Accuracy = 0.746\n",
      "Training Accuracy= 0.795\n",
      "EPOCH 6 ...\n",
      "Validation Accuracy = 0.795\n",
      "Training Accuracy= 0.845\n",
      "EPOCH 7 ...\n",
      "Validation Accuracy = 0.821\n",
      "Training Accuracy= 0.866\n",
      "EPOCH 8 ...\n",
      "Validation Accuracy = 0.832\n",
      "Training Accuracy= 0.885\n",
      "EPOCH 9 ...\n",
      "Validation Accuracy = 0.851\n",
      "Training Accuracy= 0.898\n",
      "EPOCH 10 ...\n",
      "Validation Accuracy = 0.862\n",
      "Training Accuracy= 0.908\n",
      "EPOCH 11 ...\n",
      "Validation Accuracy = 0.866\n",
      "Training Accuracy= 0.912\n",
      "EPOCH 12 ...\n",
      "Validation Accuracy = 0.865\n",
      "Training Accuracy= 0.920\n",
      "EPOCH 13 ...\n",
      "Validation Accuracy = 0.880\n",
      "Training Accuracy= 0.926\n",
      "EPOCH 14 ...\n",
      "Validation Accuracy = 0.894\n",
      "Training Accuracy= 0.939\n",
      "EPOCH 15 ...\n",
      "Validation Accuracy = 0.887\n",
      "Training Accuracy= 0.936\n",
      "EPOCH 16 ...\n",
      "Validation Accuracy = 0.884\n",
      "Training Accuracy= 0.937\n",
      "EPOCH 17 ...\n",
      "Validation Accuracy = 0.891\n",
      "Training Accuracy= 0.941\n",
      "EPOCH 18 ...\n",
      "Validation Accuracy = 0.889\n",
      "Training Accuracy= 0.945\n",
      "EPOCH 19 ...\n",
      "Validation Accuracy = 0.895\n",
      "Training Accuracy= 0.945\n",
      "EPOCH 20 ...\n",
      "Validation Accuracy = 0.891\n",
      "Training Accuracy= 0.949\n",
      "EPOCH 21 ...\n",
      "Validation Accuracy = 0.896\n",
      "Training Accuracy= 0.951\n",
      "EPOCH 22 ...\n",
      "Validation Accuracy = 0.899\n",
      "Training Accuracy= 0.954\n",
      "EPOCH 23 ...\n",
      "Validation Accuracy = 0.899\n",
      "Training Accuracy= 0.953\n",
      "EPOCH 24 ...\n",
      "Validation Accuracy = 0.907\n",
      "Training Accuracy= 0.961\n",
      "EPOCH 25 ...\n",
      "Validation Accuracy = 0.915\n",
      "Training Accuracy= 0.964\n",
      "EPOCH 26 ...\n",
      "Validation Accuracy = 0.915\n",
      "Training Accuracy= 0.964\n",
      "EPOCH 27 ...\n",
      "Validation Accuracy = 0.909\n",
      "Training Accuracy= 0.961\n",
      "EPOCH 28 ...\n",
      "Validation Accuracy = 0.917\n",
      "Training Accuracy= 0.964\n",
      "EPOCH 29 ...\n",
      "Validation Accuracy = 0.909\n",
      "Training Accuracy= 0.963\n",
      "EPOCH 30 ...\n",
      "Validation Accuracy = 0.920\n",
      "Training Accuracy= 0.969\n",
      "EPOCH 31 ...\n",
      "Validation Accuracy = 0.922\n",
      "Training Accuracy= 0.969\n",
      "EPOCH 32 ...\n",
      "Validation Accuracy = 0.925\n",
      "Training Accuracy= 0.973\n",
      "EPOCH 33 ...\n",
      "Validation Accuracy = 0.918\n",
      "Training Accuracy= 0.971\n",
      "EPOCH 34 ...\n",
      "Validation Accuracy = 0.927\n",
      "Training Accuracy= 0.975\n",
      "EPOCH 35 ...\n",
      "Validation Accuracy = 0.924\n",
      "Training Accuracy= 0.975\n",
      "EPOCH 36 ...\n",
      "Validation Accuracy = 0.922\n",
      "Training Accuracy= 0.975\n",
      "EPOCH 37 ...\n",
      "Validation Accuracy = 0.928\n",
      "Training Accuracy= 0.976\n",
      "EPOCH 38 ...\n",
      "Validation Accuracy = 0.932\n",
      "Training Accuracy= 0.977\n",
      "EPOCH 39 ...\n",
      "Validation Accuracy = 0.928\n",
      "Training Accuracy= 0.977\n",
      "EPOCH 40 ...\n",
      "Validation Accuracy = 0.927\n",
      "Training Accuracy= 0.977\n",
      "EPOCH 41 ...\n",
      "Validation Accuracy = 0.933\n",
      "Training Accuracy= 0.978\n",
      "EPOCH 42 ...\n",
      "Validation Accuracy = 0.941\n",
      "Training Accuracy= 0.980\n",
      "EPOCH 43 ...\n",
      "Validation Accuracy = 0.926\n",
      "Training Accuracy= 0.979\n",
      "EPOCH 44 ...\n",
      "Validation Accuracy = 0.937\n",
      "Training Accuracy= 0.981\n",
      "EPOCH 45 ...\n",
      "Validation Accuracy = 0.937\n",
      "Training Accuracy= 0.981\n",
      "EPOCH 46 ...\n",
      "Validation Accuracy = 0.939\n",
      "Training Accuracy= 0.984\n",
      "EPOCH 47 ...\n",
      "Validation Accuracy = 0.937\n",
      "Training Accuracy= 0.982\n",
      "EPOCH 48 ...\n",
      "Validation Accuracy = 0.942\n",
      "Training Accuracy= 0.984\n",
      "EPOCH 49 ...\n",
      "Validation Accuracy = 0.934\n",
      "Training Accuracy= 0.982\n",
      "EPOCH 50 ...\n",
      "Validation Accuracy = 0.940\n",
      "Training Accuracy= 0.985\n",
      "EPOCH 51 ...\n",
      "Validation Accuracy = 0.946\n",
      "Training Accuracy= 0.986\n",
      "EPOCH 52 ...\n",
      "Validation Accuracy = 0.946\n",
      "Training Accuracy= 0.986\n",
      "EPOCH 53 ...\n",
      "Validation Accuracy = 0.942\n",
      "Training Accuracy= 0.984\n",
      "EPOCH 54 ...\n",
      "Validation Accuracy = 0.939\n",
      "Training Accuracy= 0.983\n",
      "EPOCH 55 ...\n",
      "Validation Accuracy = 0.944\n",
      "Training Accuracy= 0.987\n",
      "EPOCH 56 ...\n",
      "Validation Accuracy = 0.948\n",
      "Training Accuracy= 0.987\n",
      "EPOCH 57 ...\n",
      "Validation Accuracy = 0.951\n",
      "Training Accuracy= 0.987\n",
      "EPOCH 58 ...\n",
      "Validation Accuracy = 0.944\n",
      "Training Accuracy= 0.988\n",
      "EPOCH 59 ...\n",
      "Validation Accuracy = 0.954\n",
      "Training Accuracy= 0.987\n",
      "EPOCH 60 ...\n",
      "Validation Accuracy = 0.948\n",
      "Training Accuracy= 0.988\n",
      "EPOCH 61 ...\n",
      "Validation Accuracy = 0.944\n",
      "Training Accuracy= 0.987\n",
      "EPOCH 62 ...\n",
      "Validation Accuracy = 0.952\n",
      "Training Accuracy= 0.989\n",
      "EPOCH 63 ...\n",
      "Validation Accuracy = 0.952\n",
      "Training Accuracy= 0.989\n",
      "EPOCH 64 ...\n",
      "Validation Accuracy = 0.955\n",
      "Training Accuracy= 0.989\n",
      "EPOCH 65 ...\n",
      "Validation Accuracy = 0.948\n",
      "Training Accuracy= 0.990\n",
      "EPOCH 66 ...\n",
      "Validation Accuracy = 0.944\n",
      "Training Accuracy= 0.988\n",
      "EPOCH 67 ...\n",
      "Validation Accuracy = 0.947\n",
      "Training Accuracy= 0.987\n",
      "EPOCH 68 ...\n",
      "Validation Accuracy = 0.951\n",
      "Training Accuracy= 0.989\n",
      "EPOCH 69 ...\n",
      "Validation Accuracy = 0.947\n",
      "Training Accuracy= 0.987\n",
      "EPOCH 70 ...\n",
      "Validation Accuracy = 0.952\n",
      "Training Accuracy= 0.989\n",
      "EPOCH 71 ...\n",
      "Validation Accuracy = 0.952\n",
      "Training Accuracy= 0.989\n",
      "EPOCH 72 ...\n",
      "Validation Accuracy = 0.955\n",
      "Training Accuracy= 0.988\n",
      "EPOCH 73 ...\n",
      "Validation Accuracy = 0.951\n",
      "Training Accuracy= 0.990\n",
      "EPOCH 74 ...\n",
      "Validation Accuracy = 0.954\n",
      "Training Accuracy= 0.990\n",
      "EPOCH 75 ...\n",
      "Validation Accuracy = 0.951\n",
      "Training Accuracy= 0.988\n",
      "EPOCH 76 ...\n",
      "Validation Accuracy = 0.953\n",
      "Training Accuracy= 0.991\n",
      "EPOCH 77 ...\n",
      "Validation Accuracy = 0.954\n",
      "Training Accuracy= 0.989\n",
      "EPOCH 78 ...\n",
      "Validation Accuracy = 0.954\n",
      "Training Accuracy= 0.991\n",
      "EPOCH 79 ...\n",
      "Validation Accuracy = 0.957\n",
      "Training Accuracy= 0.992\n",
      "EPOCH 80 ...\n",
      "Validation Accuracy = 0.956\n",
      "Training Accuracy= 0.991\n",
      "EPOCH 81 ...\n",
      "Validation Accuracy = 0.959\n",
      "Training Accuracy= 0.991\n",
      "EPOCH 82 ...\n",
      "Validation Accuracy = 0.956\n",
      "Training Accuracy= 0.991\n",
      "EPOCH 83 ...\n",
      "Validation Accuracy = 0.955\n",
      "Training Accuracy= 0.992\n",
      "EPOCH 84 ...\n",
      "Validation Accuracy = 0.956\n",
      "Training Accuracy= 0.991\n",
      "EPOCH 85 ...\n",
      "Validation Accuracy = 0.954\n",
      "Training Accuracy= 0.991\n",
      "EPOCH 86 ...\n",
      "Validation Accuracy = 0.953\n",
      "Training Accuracy= 0.991\n",
      "EPOCH 87 ...\n",
      "Validation Accuracy = 0.952\n",
      "Training Accuracy= 0.992\n",
      "EPOCH 88 ...\n",
      "Validation Accuracy = 0.956\n",
      "Training Accuracy= 0.992\n",
      "EPOCH 89 ...\n",
      "Validation Accuracy = 0.958\n",
      "Training Accuracy= 0.992\n",
      "EPOCH 90 ...\n",
      "Validation Accuracy = 0.959\n",
      "Training Accuracy= 0.993\n",
      "EPOCH 91 ...\n",
      "Validation Accuracy = 0.954\n",
      "Training Accuracy= 0.993\n",
      "EPOCH 92 ...\n",
      "Validation Accuracy = 0.957\n",
      "Training Accuracy= 0.992\n",
      "EPOCH 93 ...\n",
      "Validation Accuracy = 0.957\n",
      "Training Accuracy= 0.992\n",
      "EPOCH 94 ...\n",
      "Validation Accuracy = 0.955\n",
      "Training Accuracy= 0.991\n",
      "EPOCH 95 ...\n",
      "Validation Accuracy = 0.955\n",
      "Training Accuracy= 0.992\n",
      "EPOCH 96 ...\n",
      "Validation Accuracy = 0.956\n",
      "Training Accuracy= 0.993\n",
      "EPOCH 97 ...\n",
      "Validation Accuracy = 0.959\n",
      "Training Accuracy= 0.993\n",
      "EPOCH 98 ...\n",
      "Validation Accuracy = 0.956\n",
      "Training Accuracy= 0.993\n",
      "EPOCH 99 ...\n",
      "Validation Accuracy = 0.960\n",
      "Training Accuracy= 0.992\n",
      "EPOCH 100 ...\n",
      "Validation Accuracy = 0.961\n",
      "Training Accuracy= 0.993\n",
      "EPOCH 101 ...\n",
      "Validation Accuracy = 0.961\n",
      "Training Accuracy= 0.993\n",
      "EPOCH 102 ...\n",
      "Validation Accuracy = 0.960\n",
      "Training Accuracy= 0.993\n",
      "EPOCH 103 ...\n",
      "Validation Accuracy = 0.964\n",
      "Training Accuracy= 0.993\n",
      "EPOCH 104 ...\n",
      "Validation Accuracy = 0.961\n",
      "Training Accuracy= 0.994\n",
      "EPOCH 105 ...\n",
      "Validation Accuracy = 0.964\n",
      "Training Accuracy= 0.992\n",
      "EPOCH 106 ...\n",
      "Validation Accuracy = 0.958\n",
      "Training Accuracy= 0.993\n",
      "EPOCH 107 ...\n",
      "Validation Accuracy = 0.954\n",
      "Training Accuracy= 0.993\n",
      "EPOCH 108 ...\n",
      "Validation Accuracy = 0.955\n",
      "Training Accuracy= 0.993\n",
      "EPOCH 109 ...\n",
      "Validation Accuracy = 0.961\n",
      "Training Accuracy= 0.994\n",
      "EPOCH 110 ...\n",
      "Validation Accuracy = 0.961\n",
      "Training Accuracy= 0.994\n",
      "EPOCH 111 ...\n",
      "Validation Accuracy = 0.960\n",
      "Training Accuracy= 0.994\n",
      "EPOCH 112 ...\n",
      "Validation Accuracy = 0.959\n",
      "Training Accuracy= 0.994\n",
      "EPOCH 113 ...\n",
      "Validation Accuracy = 0.960\n",
      "Training Accuracy= 0.993\n",
      "EPOCH 114 ...\n",
      "Validation Accuracy = 0.956\n",
      "Training Accuracy= 0.994\n",
      "EPOCH 115 ...\n",
      "Validation Accuracy = 0.961\n",
      "Training Accuracy= 0.994\n",
      "EPOCH 116 ...\n",
      "Validation Accuracy = 0.961\n",
      "Training Accuracy= 0.994\n",
      "EPOCH 117 ...\n",
      "Validation Accuracy = 0.961\n",
      "Training Accuracy= 0.993\n",
      "EPOCH 118 ...\n",
      "Validation Accuracy = 0.959\n",
      "Training Accuracy= 0.994\n",
      "EPOCH 119 ...\n",
      "Validation Accuracy = 0.960\n",
      "Training Accuracy= 0.994\n",
      "EPOCH 120 ...\n",
      "Validation Accuracy = 0.959\n",
      "Training Accuracy= 0.994\n",
      "EPOCH 121 ...\n",
      "Validation Accuracy = 0.959\n",
      "Training Accuracy= 0.994\n",
      "EPOCH 122 ...\n",
      "Validation Accuracy = 0.961\n",
      "Training Accuracy= 0.994\n",
      "EPOCH 123 ...\n",
      "Validation Accuracy = 0.956\n",
      "Training Accuracy= 0.991\n",
      "EPOCH 124 ...\n",
      "Validation Accuracy = 0.961\n",
      "Training Accuracy= 0.995\n"
     ]
    },
    {
     "name": "stdout",
     "output_type": "stream",
     "text": [
      "EPOCH 125 ...\n",
      "Validation Accuracy = 0.960\n",
      "Training Accuracy= 0.995\n",
      "Model saved\n"
     ]
    },
    {
     "data": {
      "image/png": "[encoded data removed]",
      "text/plain": [
       "<matplotlib.figure.Figure at 0x7f885e226630>"
      ]
     },
     "metadata": {
      "needs_background": "light"
     },
     "output_type": "display_data"
    },
    {
     "data": {
      "image/png": "[encoded data removed]",
      "text/plain": [
       "<matplotlib.figure.Figure at 0x7f88974237b8>"
      ]
     },
     "metadata": {
      "needs_background": "light"
     },
     "output_type": "display_data"
    }
   ],
   "source": [
    "from sklearn.utils import shuffle\n",
    "valid_accuracy = []\n",
    "train_accuracy =[]\n",
    "with tf.Session() as sess:\n",
    "    sess.run(tf.global_variables_initializer())\n",
    "    num_examples = len(X_train)\n",
    "    \n",
    "    print(\"Training...\")\n",
    "    print()\n",
    "    for i in range(EPOCHS):\n",
    "        X_train_Normal, y_train = shuffle(X_train_Normal, y_train)\n",
    "        for offset in range(0, num_examples, BATCH_SIZE):\n",
    "            end = offset + BATCH_SIZE\n",
    "            batch_x, batch_y = X_train_Normal[offset:end], y_train[offset:end]\n",
    "            sess.run(training_operation, feed_dict={x: batch_x, y: batch_y, keep_prob:DROPOUT})\n",
    "        training_accuracy = evaluate(X_train_Normal, y_train)\n",
    "        validation_accuracy = evaluate(X_valid_Normal, y_valid)\n",
    "        valid_accuracy.append(validation_accuracy)\n",
    "        train_accuracy.append(training_accuracy)\n",
    "        print(\"EPOCH {} ...\".format(i+1))\n",
    "        print(\"Validation Accuracy = {:.3f}\".format(validation_accuracy))\n",
    "        print(\"Training Accuracy= {:.3f}\".format(training_accuracy))\n",
    "        \n",
    "    saver.save(sess, './lenet')\n",
    "    print(\"Model saved\")\n",
    "    f1 = plt.figure()\n",
    "    plt.plot(range(EPOCHS),valid_accuracy)\n",
    "    plt.title(\"Validation Accuracy over EPOCHS\")\n",
    "    f2= plt.figure()\n",
    "    plt.plot(range(EPOCHS),train_accuracy)\n",
    "    plt.title(\"Training Accuracy over EPOCHS\")\n",
    "    plt.show()"
   ]
  },
  {
   "cell_type": "code",
   "execution_count": 33,
   "metadata": {},
   "outputs": [],
   "source": [
    "#run the modle on test images"
   ]
  },
  {
   "cell_type": "code",
   "execution_count": 34,
   "metadata": {},
   "outputs": [
    {
     "name": "stdout",
     "output_type": "stream",
     "text": [
      "INFO:tensorflow:Restoring parameters from ./lenet\n",
      "Test Accuracy= 0.942\n"
     ]
    }
   ],
   "source": [
    "#test_accuracy =[]\n",
    "with tf.Session() as sess:\n",
    "    saver.restore(sess, tf.train.latest_checkpoint('.'))\n",
    "    test_accuracy = evaluate(X_test_Normal, y_test)\n",
    "    print(\"Test Accuracy= {:.3f}\".format(test_accuracy))"
   ]
  },
  {
   "cell_type": "markdown",
   "metadata": {},
   "source": [
    "---\n",
    "\n",
    "## Step 3: Test a Model on New Images\n",
    "\n",
    "To give yourself more insight into how your model is working, download at least five pictures of German traffic signs from the web and use your model to predict the traffic sign type.\n",
    "\n",
    "You may find `signnames.csv` useful as it contains mappings from the class id (integer) to the actual sign name."
   ]
  },
  {
   "cell_type": "markdown",
   "metadata": {},
   "source": [
    "### Load and Output the Images"
   ]
  },
  {
   "cell_type": "code",
   "execution_count": 68,
   "metadata": {},
   "outputs": [
    {
     "name": "stdout",
     "output_type": "stream",
     "text": [
      "Number of images: 6\n"
     ]
    }
   ],
   "source": [
    "### Load the images and plot them here.\n",
    "### Feel free to use as many code cells as needed.\n",
    "import numpy as np\n",
    "import cv2\n",
    "import matplotlib.pyplot as plt\n",
    "import matplotlib.image as mpimg\n",
    "import glob\n",
    "import os\n",
    "import datetime\n",
    "import time\n",
    "images = glob.glob('../data/test_data/*.jpg')\n",
    "print(\"Number of images:\",len(images))"
   ]
  },
  {
   "cell_type": "code",
   "execution_count": 69,
   "metadata": {},
   "outputs": [],
   "source": [
    "#Convert Images to standard 32 by 32 by 3 images and save them"
   ]
  },
  {
   "cell_type": "code",
   "execution_count": 70,
   "metadata": {
    "scrolled": true
   },
   "outputs": [
    {
     "name": "stdout",
     "output_type": "stream",
     "text": [
      "(32, 32, 3)\n",
      "(32, 32, 3)\n",
      "(32, 32, 3)\n",
      "(32, 32, 3)\n",
      "(32, 32, 3)\n",
      "(32, 32, 3)\n"
     ]
    },
    {
     "data": {
      "image/png": "[encoded data removed]",
      "text/plain": [
       "<matplotlib.figure.Figure at 0x7f8894d5c048>"
      ]
     },
     "metadata": {
      "needs_background": "light"
     },
     "output_type": "display_data"
    },
    {
     "data": {
      "image/png": "[encoded data removed]",
      "text/plain": [
       "<matplotlib.figure.Figure at 0x7f88952ebba8>"
      ]
     },
     "metadata": {
      "needs_background": "light"
     },
     "output_type": "display_data"
    },
    {
     "data": {
      "image/png": "[encoded data removed]",
      "text/plain": [
       "<matplotlib.figure.Figure at 0x7f889517f7f0>"
      ]
     },
     "metadata": {
      "needs_background": "light"
     },
     "output_type": "display_data"
    },
    {
     "data": {
      "image/png": "[encoded data removed]",
      "text/plain": [
       "<matplotlib.figure.Figure at 0x7f8895322400>"
      ]
     },
     "metadata": {
      "needs_background": "light"
     },
     "output_type": "display_data"
    },
    {
     "data": {
      "image/png": "[encoded data removed]",
      "text/plain": [
       "<matplotlib.figure.Figure at 0x7f8895348828>"
      ]
     },
     "metadata": {
      "needs_background": "light"
     },
     "output_type": "display_data"
    },
    {
     "data": {
      "image/png": "[encoded data removed]",
      "text/plain": [
       "<matplotlib.figure.Figure at 0x7f8895234c50>"
      ]
     },
     "metadata": {
      "needs_background": "light"
     },
     "output_type": "display_data"
    }
   ],
   "source": [
    "dim = (32,32)\n",
    "for i in range (len(images)):\n",
    "    img = cv2.imread(images[i])\n",
    "    img = cv2.resize(img, dim, interpolation = cv2.INTER_AREA)\n",
    "    cv2.imwrite('../data/test_data/test_images_standard/'+'32_32_3_'+images[i][18:20]+\".jpg\",img)\n",
    "    img = cv2.cvtColor(img, cv2.COLOR_BGR2RGB)\n",
    "    print(img.shape)\n",
    "    plt.figure()\n",
    "    plt.imshow(img)\n",
    "    plt.title(images[i])"
   ]
  },
  {
   "cell_type": "code",
   "execution_count": 71,
   "metadata": {},
   "outputs": [],
   "source": [
    "#Create inputs from images"
   ]
  },
  {
   "cell_type": "code",
   "execution_count": 72,
   "metadata": {},
   "outputs": [
    {
     "name": "stdout",
     "output_type": "stream",
     "text": [
      "Total Files: 6\n",
      "Number of labels: 6\n",
      "Images Number: 6 Image Shape: 32 , 32 , 3\n"
     ]
    }
   ],
   "source": [
    "X_down =[]\n",
    "Y_down =[]\n",
    "folder_read = '../data/test_data/test_images_standard/'\n",
    "names = glob.glob(folder_read + \"*.jpg\")\n",
    "print(\"Total Files:\",len(names))\n",
    "for i in range (len(names)):\n",
    "    image = np.array(mpimg.imread(names[i]))\n",
    "    labels = names[i][-6:-4]\n",
    "    X_down.append(image)\n",
    "    Y_down.append(int(labels))\n",
    "print(\"Number of labels:\",len(Y_down))\n",
    "print(\"Images Number:\",len(X_down),\"Image Shape:\",len(X_down[0]),\",\",len(X_down[0][0]),\",\",len(X_down[0][0][0]))"
   ]
  },
  {
   "cell_type": "markdown",
   "metadata": {},
   "source": [
    "### Predict the Sign Type for Each Image"
   ]
  },
  {
   "cell_type": "code",
   "execution_count": 73,
   "metadata": {},
   "outputs": [],
   "source": [
    "### Run the predictions here and use the model to output the prediction for each image.\n",
    "### Make sure to pre-process the images with the same pre-processing pipeline used earlier.\n",
    "### Feel free to use as many code cells as needed."
   ]
  },
  {
   "cell_type": "code",
   "execution_count": 74,
   "metadata": {},
   "outputs": [
    {
     "name": "stdout",
     "output_type": "stream",
     "text": [
      "INFO:tensorflow:Restoring parameters from ./lenet\n",
      "[27 13 25 17 14 11]\n"
     ]
    }
   ],
   "source": [
    "import tensorflow as tf\n",
    "X_down_Normal = process_rgb_gray_normal(np.array(X_down))\n",
    "predict = tf.argmax(logits,1)\n",
    "with tf.Session() as sess:\n",
    "    saver.restore(sess, tf.train.latest_checkpoint('.'))\n",
    "    predict = sess.run(predict,feed_dict={x:X_down_Normal,keep_prob:1.0})\n",
    "    print(predict)"
   ]
  },
  {
   "cell_type": "code",
   "execution_count": 75,
   "metadata": {},
   "outputs": [
    {
     "name": "stdout",
     "output_type": "stream",
     "text": [
      "[27, 13, 25, 17, 14, 11]\n"
     ]
    }
   ],
   "source": [
    "print(Y_down)"
   ]
  },
  {
   "cell_type": "markdown",
   "metadata": {},
   "source": [
    "### Analyze Performance"
   ]
  },
  {
   "cell_type": "code",
   "execution_count": 76,
   "metadata": {},
   "outputs": [],
   "source": [
    "### Calculate the accuracy for these 5 new images. \n",
    "### For example, if the model predicted 1 out of 5 signs correctly, it's 20% accurate on these new images."
   ]
  },
  {
   "cell_type": "code",
   "execution_count": 77,
   "metadata": {},
   "outputs": [
    {
     "name": "stdout",
     "output_type": "stream",
     "text": [
      "INFO:tensorflow:Restoring parameters from ./lenet\n",
      "Model Accuracy for downloaded images = 1.000 \n"
     ]
    }
   ],
   "source": [
    "with tf.Session() as sess:\n",
    "    saver.restore(sess, tf.train.latest_checkpoint('.'))\n",
    "    down_accuracy = evaluate(X_down_Normal,Y_down)\n",
    "    print(\"Model Accuracy for downloaded images = {:.3f} \".format(down_accuracy))"
   ]
  },
  {
   "cell_type": "markdown",
   "metadata": {},
   "source": [
    "### Output Top 5 Softmax Probabilities For Each Image Found on the Web"
   ]
  },
  {
   "cell_type": "markdown",
   "metadata": {},
   "source": [
    "For each of the new images, print out the model's softmax probabilities to show the **certainty** of the model's predictions (limit the output to the top 5 probabilities for each image). [`tf.nn.top_k`](https://www.tensorflow.org/versions/r0.12/api_docs/python/nn.html#top_k) could prove helpful here. \n",
    "\n",
    "The example below demonstrates how tf.nn.top_k can be used to find the top k predictions for each image.\n",
    "\n",
    "`tf.nn.top_k` will return the values and indices (class ids) of the top k predictions. So if k=3, for each sign, it'll return the 3 largest probabilities (out of a possible 43) and the correspoding class ids.\n",
    "\n",
    "Take this numpy array as an example. The values in the array represent predictions. The array contains softmax probabilities for five candidate images with six possible classes. `tf.nn.top_k` is used to choose the three classes with the highest probability:\n",
    "\n",
    "```\n",
    "# (5, 6) array\n",
    "a = np.array([[ 0.24879643,  0.07032244,  0.12641572,  0.34763842,  0.07893497,\n",
    "         0.12789202],\n",
    "       [ 0.28086119,  0.27569815,  0.08594638,  0.0178669 ,  0.18063401,\n",
    "         0.15899337],\n",
    "       [ 0.26076848,  0.23664738,  0.08020603,  0.07001922,  0.1134371 ,\n",
    "         0.23892179],\n",
    "       [ 0.11943333,  0.29198961,  0.02605103,  0.26234032,  0.1351348 ,\n",
    "         0.16505091],\n",
    "       [ 0.09561176,  0.34396535,  0.0643941 ,  0.16240774,  0.24206137,\n",
    "         0.09155967]])\n",
    "```\n",
    "\n",
    "Running it through `sess.run(tf.nn.top_k(tf.constant(a), k=3))` produces:\n",
    "\n",
    "```\n",
    "TopKV2(values=array([[ 0.34763842,  0.24879643,  0.12789202],\n",
    "       [ 0.28086119,  0.27569815,  0.18063401],\n",
    "       [ 0.26076848,  0.23892179,  0.23664738],\n",
    "       [ 0.29198961,  0.26234032,  0.16505091],\n",
    "       [ 0.34396535,  0.24206137,  0.16240774]]), indices=array([[3, 0, 5],\n",
    "       [0, 1, 4],\n",
    "       [0, 5, 1],\n",
    "       [1, 3, 5],\n",
    "       [1, 4, 3]], dtype=int32))\n",
    "```\n",
    "\n",
    "Looking just at the first row we get `[ 0.34763842,  0.24879643,  0.12789202]`, you can confirm these are the 3 largest probabilities in `a`. You'll also notice `[3, 0, 5]` are the corresponding indices."
   ]
  },
  {
   "cell_type": "code",
   "execution_count": 78,
   "metadata": {},
   "outputs": [],
   "source": [
    "### Print out the top five softmax probabilities for the predictions on the German traffic sign images found on the web. \n",
    "### Feel free to use as many code cells as needed."
   ]
  },
  {
   "cell_type": "code",
   "execution_count": 79,
   "metadata": {
    "scrolled": true
   },
   "outputs": [
    {
     "name": "stdout",
     "output_type": "stream",
     "text": [
      "INFO:tensorflow:Restoring parameters from ./lenet\n",
      "TopKV2(values=array([[  8.72130871e-01,   1.01016380e-01,   2.46692952e-02,\n",
      "          1.61490845e-03,   5.48735377e-04],\n",
      "       [  1.00000000e+00,   2.01541668e-20,   2.27854919e-24,\n",
      "          9.05691302e-32,   6.27741843e-32],\n",
      "       [  1.00000000e+00,   3.85175866e-15,   1.66000432e-16,\n",
      "          8.92929626e-17,   2.22551021e-18],\n",
      "       [  1.00000000e+00,   1.20344164e-13,   3.04538487e-17,\n",
      "          1.54364320e-18,   9.36330778e-20],\n",
      "       [  9.97222781e-01,   2.21155141e-03,   1.98906870e-04,\n",
      "          7.45642683e-05,   7.38114832e-05],\n",
      "       [  9.99999762e-01,   2.07172619e-07,   2.84417260e-12,\n",
      "          3.87227631e-13,   1.23424749e-13]], dtype=float32), indices=array([[27, 18, 24, 11, 26],\n",
      "       [13, 12, 38, 35, 25],\n",
      "       [25, 20, 30, 22, 29],\n",
      "       [17, 14, 12,  0, 40],\n",
      "       [14,  2, 13,  3,  1],\n",
      "       [11, 30, 28, 12, 42]], dtype=int32))\n"
     ]
    }
   ],
   "source": [
    "softmax = tf.nn.softmax(logits)\n",
    "top_5 = tf.nn.top_k(softmax,5)\n",
    "with tf.Session() as sess:\n",
    "    saver.restore(sess, tf.train.latest_checkpoint('.'))\n",
    "    top_5 = sess.run(top_5, feed_dict ={x:X_down_Normal,keep_prob:1.0})\n",
    "    print(top_5)"
   ]
  },
  {
   "cell_type": "code",
   "execution_count": 80,
   "metadata": {},
   "outputs": [],
   "source": [
    "#plot the top 5 in "
   ]
  },
  {
   "cell_type": "code",
   "execution_count": 82,
   "metadata": {},
   "outputs": [
    {
     "data": {
      "image/png": "[encoded data removed]",
      "text/plain": [
       "<matplotlib.figure.Figure at 0x7f8894af02b0>"
      ]
     },
     "metadata": {
      "needs_background": "light"
     },
     "output_type": "display_data"
    },
    {
     "data": {
      "image/png": "[encoded data removed]",
      "text/plain": [
       "<matplotlib.figure.Figure at 0x7f8894b41b00>"
      ]
     },
     "metadata": {
      "needs_background": "light"
     },
     "output_type": "display_data"
    },
    {
     "data": {
      "image/png": "[encoded data removed]",
      "text/plain": [
       "<matplotlib.figure.Figure at 0x7f8894b2ad30>"
      ]
     },
     "metadata": {
      "needs_background": "light"
     },
     "output_type": "display_data"
    },
    {
     "data": {
      "image/png": "[encoded data removed]",
      "text/plain": [
       "<matplotlib.figure.Figure at 0x7f8894ca4a20>"
      ]
     },
     "metadata": {
      "needs_background": "light"
     },
     "output_type": "display_data"
    },
    {
     "data": {
      "image/png": "[encoded data removed]",
      "text/plain": [
       "<matplotlib.figure.Figure at 0x7f8894c796d8>"
      ]
     },
     "metadata": {
      "needs_background": "light"
     },
     "output_type": "display_data"
    },
    {
     "data": {
      "image/png": "[encoded data removed]",
      "text/plain": [
       "<matplotlib.figure.Figure at 0x7f889539b048>"
      ]
     },
     "metadata": {
      "needs_background": "light"
     },
     "output_type": "display_data"
    }
   ],
   "source": [
    "for i  in range (len(top_5[0])):\n",
    "    plt.figure()\n",
    "    plt.bar(top_5[1][i],top_5[0][i])\n",
    "    plt.title('Actual Image Type is: '+str(Y_down[i]))"
   ]
  },
  {
   "cell_type": "markdown",
   "metadata": {},
   "source": [
    "### Project Writeup\n",
    "\n",
    "Once you have completed the code implementation, document your results in a project writeup using this [template](https://github.com/udacity/CarND-Traffic-Sign-Classifier-Project/blob/master/writeup_template.md) as a guide. The writeup can be in a markdown or pdf file. "
   ]
  },
  {
   "cell_type": "markdown",
   "metadata": {},
   "source": [
    "> **Note**: Once you have completed all of the code implementations and successfully answered each question above, you may finalize your work by exporting the iPython Notebook as an HTML document. You can do this by using the menu above and navigating to  \\n\",\n",
    "    \"**File -> Download as -> HTML (.html)**. Include the finished document along with this notebook as your submission."
   ]
  },
  {
   "cell_type": "markdown",
   "metadata": {},
   "source": [
    "---\n",
    "\n",
    "## Step 4 (Optional): Visualize the Neural Network's State with Test Images\n",
    "\n",
    " This Section is not required to complete but acts as an additional excersise for understaning the output of a neural network's weights. While neural networks can be a great learning device they are often referred to as a black box. We can understand what the weights of a neural network look like better by plotting their feature maps. After successfully training your neural network you can see what it's feature maps look like by plotting the output of the network's weight layers in response to a test stimuli image. From these plotted feature maps, it's possible to see what characteristics of an image the network finds interesting. For a sign, maybe the inner network feature maps react with high activation to the sign's boundary outline or to the contrast in the sign's painted symbol.\n",
    "\n",
    " Provided for you below is the function code that allows you to get the visualization output of any tensorflow weight layer you want. The inputs to the function should be a stimuli image, one used during training or a new one you provided, and then the tensorflow variable name that represents the layer's state during the training process, for instance if you wanted to see what the [LeNet lab's](https://classroom.udacity.com/nanodegrees/nd013/parts/fbf77062-5703-404e-b60c-95b78b2f3f9e/modules/6df7ae49-c61c-4bb2-a23e-6527e69209ec/lessons/601ae704-1035-4287-8b11-e2c2716217ad/concepts/d4aca031-508f-4e0b-b493-e7b706120f81) feature maps looked like for it's second convolutional layer you could enter conv2 as the tf_activation variable.\n",
    "\n",
    "For an example of what feature map outputs look like, check out NVIDIA's results in their paper [End-to-End Deep Learning for Self-Driving Cars](https://devblogs.nvidia.com/parallelforall/deep-learning-self-driving-cars/) in the section Visualization of internal CNN State. NVIDIA was able to show that their network's inner weights had high activations to road boundary lines by comparing feature maps from an image with a clear path to one without. Try experimenting with a similar test to show that your trained network's weights are looking for interesting features, whether it's looking at differences in feature maps from images with or without a sign, or even what feature maps look like in a trained network vs a completely untrained one on the same sign image.\n",
    "\n",
    "<figure>\n",
    " <img src=\"visualize_cnn.png\" width=\"380\" alt=\"Combined Image\" />\n",
    " <figcaption>\n",
    " <p></p> \n",
    " <p style=\"text-align: center;\"> Your output should look something like this (above)</p> \n",
    " </figcaption>\n",
    "</figure>\n",
    " <p></p> \n"
   ]
  },
  {
   "cell_type": "code",
   "execution_count": null,
   "metadata": {},
   "outputs": [],
   "source": [
    "### Visualize your network's feature maps here.\n",
    "### Feel free to use as many code cells as needed.\n",
    "\n",
    "# image_input: the test image being fed into the network to produce the feature maps\n",
    "# tf_activation: should be a tf variable name used during your training procedure that represents the calculated state of a specific weight layer\n",
    "# activation_min/max: can be used to view the activation contrast in more detail, by default matplot sets min and max to the actual min and max values of the output\n",
    "# plt_num: used to plot out multiple different weight feature map sets on the same block, just extend the plt number for each new feature map entry\n",
    "\n",
    "def outputFeatureMap(image_input, tf_activation, activation_min=-1, activation_max=-1 ,plt_num=1):\n",
    "    # Here make sure to preprocess your image_input in a way your network expects\n",
    "    # with size, normalization, ect if needed\n",
    "    # image_input =\n",
    "    # Note: x should be the same name as your network's tensorflow data placeholder variable\n",
    "    # If you get an error tf_activation is not defined it may be having trouble accessing the variable from inside a function\n",
    "    activation = tf_activation.eval(session=sess,feed_dict={x : image_input})\n",
    "    featuremaps = activation.shape[3]\n",
    "    plt.figure(plt_num, figsize=(15,15))\n",
    "    for featuremap in range(featuremaps):\n",
    "        plt.subplot(6,8, featuremap+1) # sets the number of feature maps to show on each row and column\n",
    "        plt.title('FeatureMap ' + str(featuremap)) # displays the feature map number\n",
    "        if activation_min != -1 & activation_max != -1:\n",
    "            plt.imshow(activation[0,:,:, featuremap], interpolation=\"nearest\", vmin =activation_min, vmax=activation_max, cmap=\"gray\")\n",
    "        elif activation_max != -1:\n",
    "            plt.imshow(activation[0,:,:, featuremap], interpolation=\"nearest\", vmax=activation_max, cmap=\"gray\")\n",
    "        elif activation_min !=-1:\n",
    "            plt.imshow(activation[0,:,:, featuremap], interpolation=\"nearest\", vmin=activation_min, cmap=\"gray\")\n",
    "        else:\n",
    "            plt.imshow(activation[0,:,:, featuremap], interpolation=\"nearest\", cmap=\"gray\")"
   ]
  }
 ],
 "metadata": {
  "anaconda-cloud": {},
  "kernelspec": {
   "display_name": "Python 3",
   "language": "python",
   "name": "python3"
  },
  "language_info": {
   "codemirror_mode": {
    "name": "ipython",
    "version": 3
   },
   "file_extension": ".py",
   "mimetype": "text/x-python",
   "name": "python",
   "nbconvert_exporter": "python",
   "pygments_lexer": "ipython3",
   "version": "3.6.3"
  }
 },
 "nbformat": 4,
 "nbformat_minor": 1
}
